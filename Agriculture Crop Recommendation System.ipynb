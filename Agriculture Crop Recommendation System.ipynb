{
 "cells": [
  {
   "cell_type": "markdown",
   "id": "cfaf665d-297e-45c2-b1ed-eb7da119dd52",
   "metadata": {},
   "source": [
    "# Import Libraries"
   ]
  },
  {
   "cell_type": "code",
   "execution_count": 1,
   "id": "22da98f8-a6e1-42bd-9ad1-fd9701e20079",
   "metadata": {},
   "outputs": [],
   "source": [
    "import numpy as np\n",
    "import pandas as pd\n",
    "from dateutil.parser import parse\n",
    "from tkinter import*\n",
    "import tkinter as tk\n",
    "from tkinter import ttk\n",
    "from tkinter import messagebox, filedialog\n",
    "import pickle\n",
    "import time\n",
    "import os\n",
    "import sys\n",
    "import pyodbc\n",
    "import warnings\n",
    "warnings.filterwarnings('ignore')\n",
    "from datetime import datetime\n",
    "import pytz\n",
    "mydata = []"
   ]
  },
  {
   "cell_type": "markdown",
   "id": "9a703101-0c08-412b-b40e-ef2eb038ad9d",
   "metadata": {},
   "source": [
    "# # Database connection to MSSQL Server"
   ]
  },
  {
   "cell_type": "code",
   "execution_count": 2,
   "id": "fd87d6a4-c394-46b0-805e-f6440331d7f5",
   "metadata": {},
   "outputs": [
    {
     "ename": "OperationalError",
     "evalue": "('08001', '[08001] [Microsoft][ODBC SQL Server Driver][DBNETLIB]SQL Server does not exist or access denied. (17) (SQLDriverConnect); [08001] [Microsoft][ODBC SQL Server Driver][DBNETLIB]ConnectionOpen (Connect()). (53)')",
     "output_type": "error",
     "traceback": [
      "\u001b[1;31m---------------------------------------------------------------------------\u001b[0m",
      "\u001b[1;31mOperationalError\u001b[0m                          Traceback (most recent call last)",
      "Input \u001b[1;32mIn [2]\u001b[0m, in \u001b[0;36m<cell line: 2>\u001b[1;34m()\u001b[0m\n\u001b[0;32m      1\u001b[0m \u001b[38;5;66;03m#================= Create Database Connection ======================#\u001b[39;00m\n\u001b[1;32m----> 2\u001b[0m engine \u001b[38;5;241m=\u001b[39m \u001b[43mpyodbc\u001b[49m\u001b[38;5;241;43m.\u001b[39;49m\u001b[43mconnect\u001b[49m\u001b[43m(\u001b[49m\u001b[38;5;124;43m\"\u001b[39;49m\u001b[38;5;124;43mDRIVER=\u001b[39;49m\u001b[38;5;124;43m{\u001b[39;49m\u001b[38;5;124;43mSQL Server};\u001b[39;49m\u001b[38;5;124;43m\"\u001b[39;49m\n\u001b[0;32m      3\u001b[0m \u001b[43m                      \u001b[49m\u001b[38;5;124;43m\"\u001b[39;49m\u001b[38;5;124;43mServer=192.168.37.128;\u001b[39;49m\u001b[38;5;124;43m\"\u001b[39;49m\n\u001b[0;32m      4\u001b[0m \u001b[43m                      \u001b[49m\u001b[38;5;124;43m\"\u001b[39;49m\u001b[38;5;124;43mUID=sa;\u001b[39;49m\u001b[38;5;124;43m\"\u001b[39;49m\n\u001b[0;32m      5\u001b[0m \u001b[43m                      \u001b[49m\u001b[38;5;124;43m\"\u001b[39;49m\u001b[38;5;124;43mPWD=Abc12345;\u001b[39;49m\u001b[38;5;124;43m\"\u001b[39;49m\n\u001b[0;32m      6\u001b[0m \u001b[43m                      \u001b[49m\u001b[38;5;124;43m\"\u001b[39;49m\u001b[38;5;124;43mDatabase=PREDICTIVE;\u001b[39;49m\u001b[38;5;124;43m\"\u001b[39;49m\n\u001b[0;32m      7\u001b[0m \u001b[43m                      \u001b[49m\u001b[38;5;124;43m\"\u001b[39;49m\u001b[38;5;124;43mTrusted_Connection=NO;\u001b[39;49m\u001b[38;5;124;43m\"\u001b[39;49m\u001b[43m)\u001b[49m\n\u001b[0;32m      8\u001b[0m cursor \u001b[38;5;241m=\u001b[39mengine\u001b[38;5;241m.\u001b[39mcursor()\n\u001b[0;32m     10\u001b[0m pd\u001b[38;5;241m.\u001b[39moptions\u001b[38;5;241m.\u001b[39mdisplay\u001b[38;5;241m.\u001b[39mfloat_format \u001b[38;5;241m=\u001b[39m \u001b[38;5;124m'\u001b[39m\u001b[38;5;132;01m{:,.2f}\u001b[39;00m\u001b[38;5;124m'\u001b[39m\u001b[38;5;241m.\u001b[39mformat\n",
      "\u001b[1;31mOperationalError\u001b[0m: ('08001', '[08001] [Microsoft][ODBC SQL Server Driver][DBNETLIB]SQL Server does not exist or access denied. (17) (SQLDriverConnect); [08001] [Microsoft][ODBC SQL Server Driver][DBNETLIB]ConnectionOpen (Connect()). (53)')"
     ]
    }
   ],
   "source": [
    "#================= Create Database Connection ======================#\n",
    "engine = pyodbc.connect(\"DRIVER={SQL Server};\"\n",
    "                      \"Server=192.168.37.128;\"\n",
    "                      \"UID=sa;\"\n",
    "                      \"PWD=Abc12345;\"\n",
    "                      \"Database=PREDICTIVE;\"\n",
    "                      \"Trusted_Connection=NO;\")\n",
    "cursor =engine.cursor()\n",
    "\n",
    "pd.options.display.float_format = '{:,.2f}'.format"
   ]
  },
  {
   "cell_type": "markdown",
   "id": "6dc2266c-df64-44f5-a58a-53209e1ceb00",
   "metadata": {
    "tags": []
   },
   "source": [
    "# Define function"
   ]
  },
  {
   "cell_type": "code",
   "execution_count": null,
   "id": "50a18955-6d65-45a1-abc5-df0b837995fd",
   "metadata": {},
   "outputs": [],
   "source": [
    "def getrow(event):\n",
    "    rowid = trv.identify_row(event.y)\n",
    "    item = trv.item(trv.focus())\n",
    "    \n",
    "    varNitro.set(item['values'][1])\n",
    "    varPhos.set(item['values'][2])\n",
    "    varPot.set(item['values'][3])\n",
    "    varTemp.set(item['values'][4])\n",
    "    varHum.set(item['values'][5])\n",
    "    varPH.set(item['values'][6])\n",
    "    varRain.set(item['values'][7])\n",
    "    varCrop.set(item['values'][8]) \n",
    "    "
   ]
  },
  {
   "cell_type": "code",
   "execution_count": null,
   "id": "03f08608-b684-4ba7-a4de-2f5565993da6",
   "metadata": {},
   "outputs": [],
   "source": [
    "def update(rows):\n",
    "    global mydata\n",
    "    mydata=rows\n",
    "    trv.delete(*trv.get_children())\n",
    "    for i in rows:\n",
    "        trv.insert('', 'end', values=i) "
   ]
  },
  {
   "cell_type": "code",
   "execution_count": null,
   "id": "ce217d37-4721-4474-b09e-310ba67d617d",
   "metadata": {},
   "outputs": [],
   "source": [
    "def simulation():\n",
    "    dataNitro = varNitro.get()\n",
    "    dataPhos = varPhos.get()\n",
    "    dataPot = varPot.get()\n",
    "    dataTemp = varTemp.get()\n",
    "    dataHum = varHum.get()\n",
    "    dataPH = varPH.get()\n",
    "    dataRain = varRain.get()\n",
    "    dataCrop = varCrop.get()\n",
    "    \n",
    "    if messagebox.askyesno(\"Calculate Regression\", \"Start regression Model?\"):\n",
    "        \n",
    "        with open('RandomForest.pkl', 'rb') as RF:\n",
    "            model=pickle.load(RF)\n",
    "            simulation = model.predict([[dataNitro, dataPhos, dataPot, dataTemp,dataHum,dataPH,dataRain]])\n",
    "            #simulation = np.exp(simulation)\n",
    "            varCrop.set(simulation)\n",
    "            \n",
    "    else:\n",
    "        return True"
   ]
  },
  {
   "cell_type": "code",
   "execution_count": null,
   "id": "6a4dbef6-215e-4e76-8ed4-baa30521c1d0",
   "metadata": {},
   "outputs": [],
   "source": [
    "def clear():\n",
    "    query = \"SELECT Nitrogen,Phosphorus,Pottasium,temperature,humidity,ph,rainfall,Crop FROM Crop_recommendation\"\n",
    "    cursor.execute(query)\n",
    "    rows=cursor.fetchall()\n",
    "    update(rows)"
   ]
  },
  {
   "cell_type": "code",
   "execution_count": null,
   "id": "668b3f2d-bff3-486d-b826-6fc12c7aeac5",
   "metadata": {},
   "outputs": [],
   "source": [
    "    \n",
    "def exit_program():\n",
    "    if messagebox.askyesno(\"Exit Program\", \"Are you sure you want to exit? All progress will be saved\"):\n",
    "        root.destroy()\n",
    "    else:\n",
    "        return True"
   ]
  },
  {
   "cell_type": "code",
   "execution_count": null,
   "id": "647a0c2e-d77c-4bf3-9c6b-a1b006e6c8b0",
   "metadata": {},
   "outputs": [],
   "source": [
    "def exportcsv():\n",
    "    if len(mydata)<1:\n",
    "        messagebox.showerror(\"Warning\", \"No data available to export\")\n",
    "        return False\n",
    "    fln = filedialog.asksaveasfilename(initialdir=os.getcwd(), title=\"Export CSV\", filetypes=((\"CSV File\",\"*.csv\"), (\"All Files\", \"*.*\")))\n",
    "    with open(fln, mode='w') as myfile:\n",
    "        exp_writer = csv.writer(myfile, delimiter=',')\n",
    "        for i in mydata:\n",
    "            exp_writer.writerow(i)\n",
    "    messagebox.showinfo(\"Data Exported\", \"Your data has been exported to \"+os.path.basename(fln)+\" successfully.\")"
   ]
  },
  {
   "cell_type": "markdown",
   "id": "19748692-29b4-4ce3-ba98-75a0b46f3aec",
   "metadata": {},
   "source": [
    "# Create Windows Main Frame"
   ]
  },
  {
   "cell_type": "code",
   "execution_count": null,
   "id": "54d49651-ab63-4060-8b8d-b7a37d8d2eee",
   "metadata": {},
   "outputs": [],
   "source": [
    "root=Tk()\n",
    "root.title(\"AGRICULTURE CROP RECOMMENDATION SYSTEM\")\n",
    "root.geometry(\"900x555\")\n",
    "root.configure(bg='white')\n",
    "root.resizable(True, True)"
   ]
  },
  {
   "cell_type": "markdown",
   "id": "6858ad2c-4f0b-4343-9bf1-e1d56c916f84",
   "metadata": {},
   "source": [
    "# Declare Variable String "
   ]
  },
  {
   "cell_type": "code",
   "execution_count": null,
   "id": "7f3fca09-7bc7-4539-a085-cdba8c7127a8",
   "metadata": {},
   "outputs": [],
   "source": [
    "varNitro =DoubleVar()\n",
    "varPhos = DoubleVar()\n",
    "varPot =  DoubleVar()\n",
    "varTemp =  DoubleVar()\n",
    "varHum = DoubleVar()\n",
    "varPH =  DoubleVar()\n",
    "varRain = DoubleVar()\n",
    "varCrop = StringVar()\n",
    "\n",
    "\n",
    "varNitro.set(\"0\")\n",
    "varPhos.set(\"0\")\n",
    "varPot.set(\"0\")\n",
    "varTemp.set(\"0\")\n",
    "varHum.set(\"0\")\n",
    "varPH.set(\"0\")\n",
    "varRain.set(\"0\")\n",
    "varCrop.set(\" \")\n",
    "\n"
   ]
  },
  {
   "cell_type": "markdown",
   "id": "16868c06-0b1f-4df8-ae36-e741a3f41620",
   "metadata": {},
   "source": [
    "# Create Wrapper Segment"
   ]
  },
  {
   "cell_type": "code",
   "execution_count": null,
   "id": "304d1725-30c5-44ab-a851-9517d3925f78",
   "metadata": {},
   "outputs": [],
   "source": [
    "wrapper1=LabelFrame(root, text=\"Existing Data Preview\", cursor='dot')\n",
    "wrapper1.pack(fill=\"both\", expand=\"yes\", padx=10, pady=10)\n",
    "\n",
    "wrapper2=LabelFrame(root, text=\"Basic Mineral Composition \")\n",
    "wrapper2.pack(fill=\"both\", expand=\"yes\", padx=10, pady=5)\n",
    "\n",
    "wrapper3=LabelFrame(root, text=\"Geographical Features\")\n",
    "wrapper3.pack(fill=\"both\", expand=\"yes\", padx=10, pady=5)\n",
    "\n",
    "wrapper4=LabelFrame(root, text=\"Crop Suggestion Result\")\n",
    "wrapper4.pack(fill=\"both\", expand=\"yes\", padx=10, pady=5)"
   ]
  },
  {
   "cell_type": "markdown",
   "id": "745d4ae1-5991-434a-bd7a-a3e6cfb4938b",
   "metadata": {},
   "source": [
    "# Segment 1 : Preview Result"
   ]
  },
  {
   "cell_type": "code",
   "execution_count": null,
   "id": "68c8c2fe-1095-4b11-a54a-2709867202c9",
   "metadata": {},
   "outputs": [],
   "source": [
    "#=============================Wrapper 1: Display Forecast Result=================================#\n",
    "\n",
    "trv = ttk.Treeview(wrapper1, columns=(1,2,3,4,5,6,7,8), show=\"headings\", height=\"15\")\n",
    "style=ttk.Style(trv)\n",
    "style.configure('Treeview', rowheight=25)\n",
    "\n",
    "trv.pack(side=LEFT)\n",
    "trv.place(x=0, y=0)\n",
    "trv.heading('#1', text=\"Nitrogen\")\n",
    "trv.heading('#2', text=\"Phosphorus\")\n",
    "trv.heading('#3', text=\"Pottasium\")\n",
    "trv.heading('#4', text=\"Temperature\")\n",
    "trv.heading('#5', text=\"Humidity\")\n",
    "trv.heading('#6', text=\"ph Level\")\n",
    "trv.heading('#7', text=\"Rainfall\")\n",
    "trv.heading('#8', text=\"Crop\")\n",
    "\n",
    "trv.column('#1',anchor=CENTER, width=111, minwidth=35)\n",
    "trv.column('#2',anchor=CENTER, width=111, minwidth=35)\n",
    "trv.column('#3',anchor=CENTER, width=111, minwidth=35)\n",
    "trv.column('#4',anchor=CENTER, width=111, minwidth=35)\n",
    "trv.column('#5',anchor=CENTER, width=111, minwidth=35)\n",
    "trv.column('#6',anchor=CENTER, width=111, minwidth=35)\n",
    "trv.column('#7',anchor=CENTER, width=111, minwidth=35)\n",
    "trv.column('#8',anchor=CENTER, width=111, minwidth=35)\n",
    "\n",
    "\n",
    "#create doubleclick function. so if doubleclick any rows, can get the data.\n",
    "trv.bind('<Double 1>', getrow)\n",
    "\n",
    "#vertical scrollbar\n",
    "yscrollbar= ttk.Scrollbar(wrapper1, orient=\"vertical\", command=trv.yview)\n",
    "yscrollbar.pack(side=RIGHT, fill=\"y\")\n",
    "\n",
    "#horizontal scrollbar\n",
    "#xscrollbar=ttk.Scrollbar(wrapper1, orient=\"horizontal\", command=trv.xview)\n",
    "#xscrollbar.pack(side=BOTTOM, fill=\"x\")\n",
    "\n",
    "trv.configure( yscrollcommand=yscrollbar.set)\n",
    "\n",
    "query = ('SELECT Nitrogen,Phosphorus,Pottasium,temperature,humidity,ph,rainfall,Crop FROM Crop_recommendation')\n",
    "cursor.execute(query)\n",
    "rows= cursor.fetchall()\n",
    "update(rows)\n",
    "\n",
    "#======================================Notes==========================================#\n",
    "#For manually input data to do simulation. \n",
    "#The data can be any data whether get from insider analytics or from governance data\n",
    "#the input data only consist siginificance variable included in the final model\n",
    "#Rainfall, number of workers, global radiation, pruning and pesticides usage.\n",
    "#This simulation is based on annual data provided from 2010 until 2020. \n",
    "#Therefore, the simulation can simulate a future outcome annually, and this simulation cannot be used for monthly due to inaccuracy.\n",
    "\n"
   ]
  },
  {
   "cell_type": "markdown",
   "id": "1e102bdb-3259-4393-9e7c-b38b048881ec",
   "metadata": {},
   "source": [
    "# Segment 2 & 3 : Label, Input and Button"
   ]
  },
  {
   "cell_type": "code",
   "execution_count": null,
   "id": "1b38b63f-2cca-43d7-9426-33eefe8bc2a7",
   "metadata": {},
   "outputs": [],
   "source": [
    "#=======================Wrapper 2: User Input for Simulation===========================#\n",
    "\n",
    "###===========================Label and entry here===================================###\n",
    "\n",
    "##==================Wrapper 2 =====================================##\n",
    "\n",
    "lblFertilizer = Label(wrapper2, text=\"Mineral Composition\", bd=10, width= 20, anchor='w')\n",
    "lblFertilizer .grid(row=0, column=0)\n",
    "\n",
    "lblNitro = Label(wrapper2, text=\"Nitrogen\", bd=10, width= 20, anchor='w')\n",
    "lblNitro.grid(row=1, column=0)\n",
    "entNitro= Entry(wrapper2, textvariable=varNitro)\n",
    "entNitro.grid(row=1, column=1)\n",
    "\n",
    "lblPhos = Label(wrapper2, text=\"Phosphorus\", bd=10, width= 20, anchor='w')\n",
    "lblPhos.grid(row=1, column=2)\n",
    "entPhos= Entry(wrapper2, textvariable=varPhos)\n",
    "entPhos.grid(row=1, column=3)\n",
    "\n",
    "lblPot = Label(wrapper2, text=\"Pottasium\", bd=10, width= 20, anchor='w')\n",
    "lblPot.grid(row=1, column=4)\n",
    "entPot= Entry(wrapper2, textvariable=varPot)\n",
    "entPot.grid(row=1, column=5)\n",
    "\n",
    "\n"
   ]
  },
  {
   "cell_type": "code",
   "execution_count": null,
   "id": "a5140861-e528-4cb4-9efe-9051cbc932d8",
   "metadata": {},
   "outputs": [],
   "source": [
    "\n",
    "##==========================Wrapper 3 ======================#\n",
    "lblTemp = Label(wrapper3, text=\"Temperature\", bd=10, width= 20, anchor='w')\n",
    "lblTemp.grid(row=0, column=0)\n",
    "entTemp= Entry(wrapper3, textvariable=varTemp)\n",
    "entTemp.grid(row=0, column=1)\n",
    "\n",
    "lblHum = Label(wrapper3, text=\"Humidity\", bd=10, width= 20, anchor='w')\n",
    "lblHum.grid(row=0, column=2)\n",
    "entHum= Entry(wrapper3, textvariable=varHum)\n",
    "entHum.grid(row=0, column=3)\n",
    "\n",
    "lblPH = Label(wrapper3, text=\"PH Level\", bd=10, width= 20, anchor='w')\n",
    "lblPH.grid(row=1, column=0)\n",
    "entPH= Entry(wrapper3, textvariable=varPH)\n",
    "entPH.grid(row=1, column=1)\n",
    "\n",
    "lblRain = Label(wrapper3, text=\"Rainfall\", bd=10, width= 20, anchor='w')\n",
    "lblRain.grid(row=1, column=2)\n",
    "entRain= Entry(wrapper3, textvariable=varRain)\n",
    "entRain.grid(row=1, column=3)\n",
    "\n",
    "\n"
   ]
  },
  {
   "cell_type": "code",
   "execution_count": null,
   "id": "9ccda73b-8cc7-426f-9bcf-be3c0404a66a",
   "metadata": {},
   "outputs": [],
   "source": [
    "\n",
    "#button\n",
    "\n",
    "btnCalc = Button(wrapper3, text=\"Start Model\", width=12, height=2, activebackground='white', command=simulation)\n",
    "btnCalc.grid(row=0, column=4, padx=10,pady=10)\n",
    "\n",
    "btnClear = Button(wrapper3, text=\"Clear\",  width=12, height=2, activebackground='white',command=clear)\n",
    "btnClear.grid(row=1, column=4, padx=10,pady=10)\n",
    "\n",
    "btnExport = Button(wrapper3, text=\"Export CSV\", width=12, height=2, activebackground='white',  command=exportcsv)\n",
    "btnExport.grid(row=0, column=5, padx=10,pady=10)\n",
    "\n",
    "btnExit = Button(wrapper3, text=\"Exit\", width=12, height=2, activebackground='white', command=exit_program)\n",
    "btnExit.grid(row=1, column=5, padx=10,pady=10)\n"
   ]
  },
  {
   "cell_type": "markdown",
   "id": "197fdca9-7984-4227-906e-c442cef077c4",
   "metadata": {},
   "source": [
    "# Segment 4 : Result "
   ]
  },
  {
   "cell_type": "code",
   "execution_count": null,
   "id": "b994defa-0dd8-41d8-bf02-1c6eab314cab",
   "metadata": {},
   "outputs": [],
   "source": [
    "lblResult = Label(wrapper4, text=\"Crop Yield Suggestion\", bd=10, width= 20, anchor='w')\n",
    "lblResult.grid(row=0, column=0)\n",
    "entResult_RF= Entry(wrapper4, textvariable=varCrop, state=\"readonly\")\n",
    "entResult_RF.grid(row=0, column=1)\n"
   ]
  },
  {
   "cell_type": "markdown",
   "id": "81793222-7533-474a-84a9-2f03237ac99d",
   "metadata": {},
   "source": [
    "# Close Main Frame"
   ]
  },
  {
   "cell_type": "code",
   "execution_count": null,
   "id": "aa30c8d1-5c45-4c0c-a013-b777cfa9e5c3",
   "metadata": {},
   "outputs": [],
   "source": [
    "root.mainloop()"
   ]
  }
 ],
 "metadata": {
  "kernelspec": {
   "display_name": "Python 3 (ipykernel)",
   "language": "python",
   "name": "python3"
  },
  "language_info": {
   "codemirror_mode": {
    "name": "ipython",
    "version": 3
   },
   "file_extension": ".py",
   "mimetype": "text/x-python",
   "name": "python",
   "nbconvert_exporter": "python",
   "pygments_lexer": "ipython3",
   "version": "3.9.12"
  },
  "widgets": {
   "application/vnd.jupyter.widget-state+json": {
    "state": {},
    "version_major": 2,
    "version_minor": 0
   }
  }
 },
 "nbformat": 4,
 "nbformat_minor": 5
}
